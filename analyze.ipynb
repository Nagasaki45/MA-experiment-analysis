{
 "metadata": {
  "name": "",
  "signature": "sha256:33e511bb280309527be6f4d9115d599e9df031398c126728bfa1e1292c040305"
 },
 "nbformat": 3,
 "nbformat_minor": 0,
 "worksheets": [
  {
   "cells": [
    {
     "cell_type": "markdown",
     "metadata": {},
     "source": [
      "Video analysis\n",
      "=============="
     ]
    },
    {
     "cell_type": "code",
     "collapsed": false,
     "input": [
      "import os\n",
      "import collections\n",
      "import itertools\n",
      "import concurrent.futures\n",
      "\n",
      "import numpy as np\n",
      "import matplotlib.pyplot as plt\n",
      "\n",
      "from utils import utils, video, movement, data, beacons, clustering\n",
      "\n",
      "%matplotlib inline"
     ],
     "language": "python",
     "metadata": {},
     "outputs": [],
     "prompt_number": 1
    },
    {
     "cell_type": "markdown",
     "metadata": {},
     "source": [
      "## Movement analysis\n",
      "The mean distance each participant did at different blocks (normalized by the length of the block, so actually its the mean participant speed in meters / second)."
     ]
    },
    {
     "cell_type": "code",
     "collapsed": false,
     "input": [
      "dists_futures = {}\n",
      "with concurrent.futures.ProcessPoolExecutor() as executor:\n",
      "    for group, block in itertools.product(['A', 'B'], [1, 2, 3]):\n",
      "        dists_futures[(group, block)] = executor.submit(movement.distance, group, block)\n",
      "# extracting the values from the futures\n",
      "dists = {k: v.result() for k, v in dists_futures.items()}"
     ],
     "language": "python",
     "metadata": {},
     "outputs": [],
     "prompt_number": 2
    },
    {
     "cell_type": "code",
     "collapsed": false,
     "input": [
      "utils.two_groups_three_bars(dists, ylim=[0, 0.5], ylabel='Mean velocity')\n",
      "data.save_to_graphics('analyze-movement')"
     ],
     "language": "python",
     "metadata": {},
     "outputs": [
      {
       "output_type": "stream",
       "stream": "stdout",
       "text": [
        "A/1 -- mean: 0.258, stderr: 0.0354\n",
        "A/2 -- mean: 0.278, stderr: 0.0434\n",
        "A/3 -- mean: 0.37, stderr: 0.0277\n",
        "B/1 -- mean: 0.269, stderr: 0.0478\n",
        "B/2 -- mean: 0.176, stderr: 0.0252\n",
        "B/3 -- mean: 0.206, stderr: 0.051\n"
       ]
      },
      {
       "metadata": {},
       "output_type": "display_data",
       "png": "[encoded data removed]",
       "text": [
        "<matplotlib.figure.Figure at 0x7f80d4e6f908>"
       ]
      }
     ],
     "prompt_number": 3
    },
    {
     "cell_type": "markdown",
     "metadata": {},
     "source": [
      "No difference between groups in the first block:"
     ]
    },
    {
     "cell_type": "code",
     "collapsed": false,
     "input": [
      "utils.independent_one_sided_ttest_summary(dists[('A', 1)], dists[('B', 1)])"
     ],
     "language": "python",
     "metadata": {},
     "outputs": [
      {
       "output_type": "stream",
       "stream": "stdout",
       "text": [
        "mean (a vs b): 0.258\t0.269\n",
        "stderr  (a vs b): 0.035\t0.048\n",
        "t: -0.1848587720687531\tp: 0.42760769582198077\tdf: 21\n"
       ]
      },
      {
       "metadata": {},
       "output_type": "display_data",
       "png": "[encoded data removed]",
       "text": [
        "<matplotlib.figure.Figure at 0x7f809c901f60>"
       ]
      }
     ],
     "prompt_number": 4
    },
    {
     "cell_type": "code",
     "collapsed": false,
     "input": [
      "data.save_to_cooked(dists, 'movement')"
     ],
     "language": "python",
     "metadata": {},
     "outputs": [],
     "prompt_number": 5
    },
    {
     "cell_type": "markdown",
     "metadata": {},
     "source": [
      "## \"Sitting on the bench\" analysis\n",
      "Calculate for each participant the percentage of the time he / she stayed at the bench area (for every block). Apply t-tests."
     ]
    },
    {
     "cell_type": "code",
     "collapsed": false,
     "input": [
      "bench_pos = data.get_bench()\n",
      "bench_radius = video.BENCH_RADIUS\n",
      "dist_func = utils.euclidean_distance\n",
      "\n",
      "def at_the_bench(point):\n",
      "    '''Returns a boolean indicates if the point is in the bench radius or not.'''\n",
      "    return dist_func(point, bench_pos) <= bench_radius\n",
      "\n",
      "def at_the_bench_percentage(group, block):\n",
      "    '''Returns a list of percentages (value for each participant) of time at the bench.'''\n",
      "    d = data.participants_data(group, block)\n",
      "    return d.apply(utils.divide_apply_unpack, axis=1, args=(at_the_bench, 2)).mean(axis=0)\n",
      "\n",
      "percentages = {}\n",
      "with concurrent.futures.ProcessPoolExecutor() as executor:\n",
      "    for group, block in itertools.product(['A', 'B'], [1, 2, 3]):\n",
      "        percentages[(group, block)] = executor.submit(at_the_bench_percentage, group, block)\n",
      "# extracting the values from the futures\n",
      "percentages = {k: v.result() for k, v in percentages.items()}"
     ],
     "language": "python",
     "metadata": {},
     "outputs": [],
     "prompt_number": 6
    },
    {
     "cell_type": "code",
     "collapsed": false,
     "input": [
      "utils.two_groups_three_bars(percentages, ylim=[0, 0.7])"
     ],
     "language": "python",
     "metadata": {},
     "outputs": [
      {
       "output_type": "stream",
       "stream": "stdout",
       "text": [
        "A/1 -- mean: 0.204, stderr: 0.0514\n",
        "A/2 -- mean: 0.291, stderr: 0.0756\n",
        "A/3 -- mean: 0.0093, stderr: 0.00509\n",
        "B/1 -- mean: 0.0806, stderr: 0.0461\n",
        "B/2 -- mean: 0.21, stderr: 0.0306\n",
        "B/3 -- mean: 0.383, stderr: 0.112\n"
       ]
      },
      {
       "metadata": {},
       "output_type": "display_data",
       "png": "[encoded data removed]",
       "text": [
        "<matplotlib.figure.Figure at 0x7f809c3eee80>"
       ]
      }
     ],
     "prompt_number": 7
    },
    {
     "cell_type": "code",
     "collapsed": false,
     "input": [
      "data.save_to_cooked(percentages, 'sitting_on_the_bench')"
     ],
     "language": "python",
     "metadata": {},
     "outputs": [],
     "prompt_number": 8
    },
    {
     "cell_type": "markdown",
     "metadata": {},
     "source": [
      "## Beacons interaction\n",
      "Expectancy of the number of participants arround a beacon, excluding beacons with 0 participants around."
     ]
    },
    {
     "cell_type": "code",
     "collapsed": false,
     "input": [
      "close_to = {}\n",
      "with concurrent.futures.ProcessPoolExecutor() as executor:\n",
      "    for group, block in itertools.product(['A', 'B'], range(1, 4)):\n",
      "        close_to[(group, block)] = executor.submit(beacons.close_to_beacon, group, block)\n",
      "        \n",
      "# extract the futures results\n",
      "for key, val in close_to.items():\n",
      "    close_to[key] = val.result()\n",
      "    \n",
      "# calculate vectors of column means (excluding beacons with 0 participants around them)\n",
      "close_to_vecs = {}\n",
      "for key, mat in close_to.items():\n",
      "    # calculate the mean of all the cells with positive numbers\n",
      "    # (do not include beacons with 0 close participants to the mean)\n",
      "    close_to_vecs[key] = np.array([col[col > 0].mean() for col in mat.transpose()])"
     ],
     "language": "python",
     "metadata": {},
     "outputs": [
      {
       "output_type": "stream",
       "stream": "stderr",
       "text": [
        "/usr/lib/python3/dist-packages/numpy/core/_methods.py:55: RuntimeWarning: Mean of empty slice.\n",
        "  warnings.warn(\"Mean of empty slice.\", RuntimeWarning)\n"
       ]
      }
     ],
     "prompt_number": 9
    },
    {
     "cell_type": "code",
     "collapsed": false,
     "input": [
      "utils.two_groups_three_bars(close_to_vecs,\n",
      "                            title='Expectancy of participants close to a beacon',\n",
      "                            ylabel='Participants')\n",
      "data.save_to_graphics('analyze-expectancy_of_participants_close_to_a_beacon')"
     ],
     "language": "python",
     "metadata": {},
     "outputs": [
      {
       "output_type": "stream",
       "stream": "stdout",
       "text": [
        "A/1 -- mean: 1.64, stderr: 0.207\n",
        "A/2 -- mean: 1.63, stderr: 0.151\n",
        "A/3 -- mean: 1.84, stderr: 0.156\n",
        "B/1 -- mean: 1.77, stderr: 0.0714\n",
        "B/2 -- mean: 2.5, stderr: 0.146\n",
        "B/3 -- mean: 2.15, stderr: 0.187\n"
       ]
      },
      {
       "metadata": {},
       "output_type": "display_data",
       "png": "[encoded data removed]",
       "text": [
        "<matplotlib.figure.Figure at 0x7f809c74d128>"
       ]
      }
     ],
     "prompt_number": 10
    },
    {
     "cell_type": "code",
     "collapsed": false,
     "input": [
      "utils.independent_one_sided_ttest_summary(close_to_vecs[('A', 1)], close_to_vecs[('B', 1)])"
     ],
     "language": "python",
     "metadata": {},
     "outputs": [
      {
       "output_type": "stream",
       "stream": "stdout",
       "text": [
        "mean (a vs b): 1.639\t1.775\n",
        "stderr  (a vs b): 0.207\t0.071\n",
        "t: -0.5655034231641781\tp: 0.29583467952978815\tdf: 10\n"
       ]
      },
      {
       "metadata": {},
       "output_type": "display_data",
       "png": "[encoded data removed]",
       "text": [
        "<matplotlib.figure.Figure at 0x7f80cda7fe80>"
       ]
      }
     ],
     "prompt_number": 11
    },
    {
     "cell_type": "code",
     "collapsed": false,
     "input": [
      "0.29583467952978815 / 2"
     ],
     "language": "python",
     "metadata": {},
     "outputs": [
      {
       "metadata": {},
       "output_type": "pyout",
       "prompt_number": 12,
       "text": [
        "0.14791733976489407"
       ]
      }
     ],
     "prompt_number": 12
    },
    {
     "cell_type": "code",
     "collapsed": false,
     "input": [
      "data.save_to_cooked(close_to_vecs, 'expectancy_of_participants_close_to_a_beacon')"
     ],
     "language": "python",
     "metadata": {},
     "outputs": [],
     "prompt_number": 13
    },
    {
     "cell_type": "markdown",
     "metadata": {},
     "source": [
      "---\n",
      "# Video clustering\n",
      "\n",
      "## Participants positioning based clustering\n",
      "\n",
      "Cluster (with MeanShift) every frame in the video and score by:\n",
      "\n",
      "1. _Algorithm score_: the mean of the distances of each participant from his centroid. Consider normalizing by the distances between the centroids.\n",
      "\n",
      "2. _Social score_: The mean of the social score each participant gave to each other participant __in his cluster__.\n",
      "\n",
      "Generate graphs over time of the above data."
     ]
    },
    {
     "cell_type": "code",
     "collapsed": false,
     "input": [
      "part_clusters = {}\n",
      "with concurrent.futures.ProcessPoolExecutor() as executor:\n",
      "    for group, block in itertools.product(['A', 'B'], [1, 2, 3]):\n",
      "        part_clusters[(group, block)] = executor.submit(clustering.participants_clustering, group, block)\n",
      "        \n",
      "# extract the futures results\n",
      "for key, val in part_clusters.items():\n",
      "    part_clusters[key] = val.result()"
     ],
     "language": "python",
     "metadata": {},
     "outputs": [],
     "prompt_number": 14
    },
    {
     "cell_type": "code",
     "collapsed": false,
     "input": [
      "part_scores = collections.defaultdict(dict)\n",
      "with concurrent.futures.ProcessPoolExecutor() as executor:\n",
      "    for key, (clusters, mapings) in part_clusters.items():\n",
      "        participants_data = data.participants_data(*key)\n",
      "        part_scores['algorithm'][key] = executor.submit(clustering.score, 'algorithm', clusters, mapings, participants_data)\n",
      "        part_scores['social'][key] = executor.submit(clustering.score, 'social', clusters, mapings, participants_data)\n",
      "\n",
      "# extract the futures results\n",
      "for kind, inner_dict in part_scores.items():\n",
      "    for key, val in inner_dict.items():\n",
      "        part_scores[kind][key] = val.result()"
     ],
     "language": "python",
     "metadata": {},
     "outputs": [],
     "prompt_number": 15
    },
    {
     "cell_type": "code",
     "collapsed": false,
     "input": [
      "d = part_scores['algorithm']\n",
      "utils.two_groups_three_bars(d, title='Participant based clustering - algorithm score', ylim=[0.5, 1.2])"
     ],
     "language": "python",
     "metadata": {},
     "outputs": [
      {
       "output_type": "stream",
       "stream": "stdout",
       "text": [
        "A/1 -- mean: 0.866, stderr: 0.053\n",
        "A/2 -- mean: 1.01, stderr: 0.0464\n",
        "A/3 -- mean: 0.899, stderr: 0.0772\n",
        "B/1 -- mean: 0.94, stderr: 0.044\n",
        "B/2 -- mean: 0.68, stderr: 0.034\n",
        "B/3 -- mean: 0.737, stderr: 0.0575\n"
       ]
      },
      {
       "metadata": {},
       "output_type": "display_data",
       "png": "[encoded data removed]",
       "text": [
        "<matplotlib.figure.Figure at 0x7f809c3ffb70>"
       ]
      }
     ],
     "prompt_number": 16
    },
    {
     "cell_type": "code",
     "collapsed": false,
     "input": [
      "utils.independent_one_sided_ttest_summary(d[('A', 1)], d[('B', 1)])"
     ],
     "language": "python",
     "metadata": {},
     "outputs": [
      {
       "output_type": "stream",
       "stream": "stdout",
       "text": [
        "mean (a vs b): 0.866\t0.940\n",
        "stderr  (a vs b): 0.053\t0.044\n",
        "t: -1.0166109370684138\tp: 0.16076982324511818\tdf: 21\n"
       ]
      },
      {
       "metadata": {},
       "output_type": "display_data",
       "png": "[encoded data removed]",
       "text": [
        "<matplotlib.figure.Figure at 0x7f809c8fbcf8>"
       ]
      }
     ],
     "prompt_number": 17
    },
    {
     "cell_type": "code",
     "collapsed": false,
     "input": [
      "0.16076982324511818 / 2"
     ],
     "language": "python",
     "metadata": {},
     "outputs": [
      {
       "metadata": {},
       "output_type": "pyout",
       "prompt_number": 18,
       "text": [
        "0.08038491162255909"
       ]
      }
     ],
     "prompt_number": 18
    },
    {
     "cell_type": "code",
     "collapsed": false,
     "input": [
      "data.save_to_cooked(d, 'participant_based_clustering_algorithm_score')"
     ],
     "language": "python",
     "metadata": {},
     "outputs": [],
     "prompt_number": 19
    },
    {
     "cell_type": "code",
     "collapsed": false,
     "input": [
      "d = part_scores['social']\n",
      "utils.two_groups_three_bars(d, title='Participant based clustering - social score', ylim=[0.4, 0.7])"
     ],
     "language": "python",
     "metadata": {},
     "outputs": [
      {
       "output_type": "stream",
       "stream": "stdout",
       "text": [
        "A/1 -- mean: 0.563, stderr: 0.0378\n",
        "A/2 -- mean: 0.545, stderr: 0.0421\n",
        "A/3 -- mean: 0.531, stderr: 0.0433\n",
        "B/1 -- mean: 0.565, stderr: 0.0274\n",
        "B/2 -- mean: 0.598, stderr: 0.0356\n",
        "B/3 -- mean: 0.598, stderr: 0.0282\n"
       ]
      },
      {
       "metadata": {},
       "output_type": "display_data",
       "png": "[encoded data removed]",
       "text": [
        "<matplotlib.figure.Figure at 0x7f8097fd8b70>"
       ]
      }
     ],
     "prompt_number": 20
    },
    {
     "cell_type": "code",
     "collapsed": false,
     "input": [
      "data.save_to_cooked(d, 'participant_based_clustering_social_score')"
     ],
     "language": "python",
     "metadata": {},
     "outputs": [],
     "prompt_number": 21
    },
    {
     "cell_type": "markdown",
     "metadata": {},
     "source": [
      "## The two plots on the same line, for paper"
     ]
    },
    {
     "cell_type": "code",
     "collapsed": false,
     "input": [
      "plt.figure(figsize=(10, 4))\n",
      "plt.subplot(1, 2, 1)\n",
      "utils.two_groups_three_bars(part_scores['algorithm'], title='Clustering algorithm score', ylim=[0.5, 1.2])\n",
      "plt.subplot(1, 2, 2)\n",
      "utils.two_groups_three_bars(part_scores['social'], title='Clustering social score', ylim=[0.4, 0.7])\n",
      "data.save_to_graphics('analyze-clustering_scores')"
     ],
     "language": "python",
     "metadata": {},
     "outputs": [
      {
       "output_type": "stream",
       "stream": "stdout",
       "text": [
        "A/1 -- mean: 0.866, stderr: 0.053\n",
        "A/2 -- mean: 1.01, stderr: 0.0464\n",
        "A/3 -- mean: 0.899, stderr: 0.0772\n",
        "B/1 -- mean: 0.94, stderr: 0.044\n",
        "B/2 -- mean: 0.68, stderr: 0.034\n",
        "B/3 -- mean: 0.737, stderr: 0.0575\n",
        "A/1 -- mean: 0.563, stderr: 0.0378"
       ]
      },
      {
       "output_type": "stream",
       "stream": "stdout",
       "text": [
        "\n",
        "A/2 -- mean: 0.545, stderr: 0.0421\n",
        "A/3 -- mean: 0.531, stderr: 0.0433\n",
        "B/1 -- mean: 0.565, stderr: 0.0274\n",
        "B/2 -- mean: 0.598, stderr: 0.0356\n",
        "B/3 -- mean: 0.598, stderr: 0.0282\n"
       ]
      },
      {
       "metadata": {},
       "output_type": "display_data",
       "png": "[encoded data removed]",
       "text": [
        "<matplotlib.figure.Figure at 0x7f809c741080>"
       ]
      }
     ],
     "prompt_number": 22
    },
    {
     "cell_type": "markdown",
     "metadata": {},
     "source": [
      "## Beacon positioning based clustering\n",
      "\n",
      "Similarly to the participants positioning based clustering, use clustering based on beacons with at least two participants around them. Merge close beacons and ignore timestamps where there is no such cluster."
     ]
    },
    {
     "cell_type": "code",
     "collapsed": false,
     "input": [
      "beacon_clusters = {}\n",
      "with concurrent.futures.ProcessPoolExecutor() as executor:\n",
      "    for group, block in itertools.product(['A', 'B'], [1, 2, 3]):\n",
      "        beacon_clusters[(group, block)] = executor.submit(clustering.beacons_clustering, group, block)\n",
      "\n",
      "# extract the futures results\n",
      "for key, val in beacon_clusters.items():\n",
      "    beacon_clusters[key] = val.result()"
     ],
     "language": "python",
     "metadata": {},
     "outputs": [],
     "prompt_number": 23
    },
    {
     "cell_type": "code",
     "collapsed": false,
     "input": [
      "beacon_scores = collections.defaultdict(dict)\n",
      "with concurrent.futures.ProcessPoolExecutor() as executor:\n",
      "    for key, (clusters, mapings) in beacon_clusters.items():\n",
      "        participants_data = data.participants_data(*key)\n",
      "        beacon_scores['algorithm'][key] = executor.submit(clustering.score, 'algorithm', clusters, mapings, participants_data)\n",
      "        beacon_scores['social'][key] = executor.submit(clustering.score, 'social', clusters, mapings, participants_data)\n",
      "\n",
      "# extract the futures results\n",
      "for kind, inner_dict in beacon_scores.items():\n",
      "    for key, val in inner_dict.items():\n",
      "        beacon_scores[kind][key] = val.result()"
     ],
     "language": "python",
     "metadata": {},
     "outputs": [],
     "prompt_number": 24
    },
    {
     "cell_type": "code",
     "collapsed": false,
     "input": [
      "d = beacon_scores['algorithm']\n",
      "utils.two_groups_three_bars(d, title='Beacon based clustering - algorithm score', ylim=[0.4, 0.7])"
     ],
     "language": "python",
     "metadata": {},
     "outputs": [
      {
       "output_type": "stream",
       "stream": "stdout",
       "text": [
        "A/1 -- mean: 0.614, stderr: 0.0438\n",
        "A/2 -- mean: 0.601, stderr: 0.0264\n",
        "A/3 -- mean: 0.604, stderr: 0.021\n",
        "B/1 -- mean: 0.611, stderr: 0.0317\n",
        "B/2 -- mean: 0.624, stderr: 0.0189\n",
        "B/3 -- mean: 0.639, stderr: 0.0386\n"
       ]
      },
      {
       "metadata": {},
       "output_type": "display_data",
       "png": "[encoded data removed]",
       "text": [
        "<matplotlib.figure.Figure at 0x7f80ce3e1390>"
       ]
      }
     ],
     "prompt_number": 25
    },
    {
     "cell_type": "code",
     "collapsed": false,
     "input": [
      "data.save_to_cooked(d, 'beacon_based_clustering_algorithm_score')"
     ],
     "language": "python",
     "metadata": {},
     "outputs": [],
     "prompt_number": 26
    },
    {
     "cell_type": "code",
     "collapsed": false,
     "input": [
      "d = beacon_scores['social']\n",
      "utils.two_groups_three_bars(d, title='Beacon based clustering - social score', ylim=[0.4, 0.7])"
     ],
     "language": "python",
     "metadata": {},
     "outputs": [
      {
       "output_type": "stream",
       "stream": "stdout",
       "text": [
        "A/1 -- mean: 0.557, stderr: 0.0532\n",
        "A/2 -- mean: 0.591, stderr: 0.0466\n",
        "A/3 -- mean: 0.591, stderr: 0.0467\n",
        "B/1 -- mean: 0.562, stderr: 0.0357\n",
        "B/2 -- mean: 0.611, stderr: 0.0334\n",
        "B/3 -- mean: 0.562, stderr: 0.0379\n"
       ]
      },
      {
       "metadata": {},
       "output_type": "display_data",
       "png": "[encoded data removed]",
       "text": [
        "<matplotlib.figure.Figure at 0x7f8097e914e0>"
       ]
      }
     ],
     "prompt_number": 27
    },
    {
     "cell_type": "code",
     "collapsed": false,
     "input": [
      "data.save_to_cooked(d, 'beacon_based_clustering_social_score')"
     ],
     "language": "python",
     "metadata": {},
     "outputs": [],
     "prompt_number": 28
    }
   ],
   "metadata": {}
  }
 ]
}