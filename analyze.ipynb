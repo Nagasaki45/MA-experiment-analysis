{
 "metadata": {
  "name": "",
  "signature": "sha256:dffc0c480c0b68cd3a16e50b9101ed0ba9f71921830eb20cb89a7e1b58b77d33"
 },
 "nbformat": 3,
 "nbformat_minor": 0,
 "worksheets": [
  {
   "cells": [
    {
     "cell_type": "code",
     "collapsed": false,
     "input": [
      "import pandas as pd\n",
      "\n",
      "from utils import functions, sus, interaction"
     ],
     "language": "python",
     "metadata": {},
     "outputs": [],
     "prompt_number": 1
    },
    {
     "cell_type": "code",
     "collapsed": false,
     "input": [
      "data = pd.read_csv('raw_surveys_data.csv', index_col='id')"
     ],
     "language": "python",
     "metadata": {},
     "outputs": [],
     "prompt_number": 2
    },
    {
     "cell_type": "markdown",
     "metadata": {},
     "source": [
      "# Usability data\n",
      "\n",
      "Based on the SUS survey, calculate the one-sided t-test between the groups scores.\n",
      "\n",
      "See note about convertion from two-sided t-test to one-sided [here](http://stackoverflow.com/a/15984310/1224456)."
     ]
    },
    {
     "cell_type": "code",
     "collapsed": false,
     "input": [
      "usability_data = data[['usability{}'.format(i) for i in range(1, 11)]]\n",
      "usability_data = sus.fillna(usability_data)\n",
      "usability_data['score'] = usability_data.apply(sus.score, axis=1)\n",
      "a, b = functions.to_groups(usability_data['score'])\n",
      "functions.ttest_summary(a, b)"
     ],
     "language": "python",
     "metadata": {},
     "outputs": [
      {
       "output_type": "stream",
       "stream": "stdout",
       "text": [
        "mean (a vs b): 45.2272727273\t67.2916666667\n",
        "std  (a vs b): 22.7499886477\t10.3811895861\n",
        "t: -2.81232830692\tp: 0.00703937309587\n"
       ]
      }
     ],
     "prompt_number": 3
    },
    {
     "cell_type": "markdown",
     "metadata": {},
     "source": [
      "# Social interaction data\n",
      "\n",
      "One-sided t-tests between the answers of the 2nd and the 6th block (group A vs. group B., control vs interaction)."
     ]
    },
    {
     "cell_type": "code",
     "collapsed": false,
     "input": [
      "interaction_data = data[['block{}{}'.format(i, j) for i in range(1, 9)\n",
      "                                                  for j in range(1, 3)]]\n",
      "a, b = [x.dropna(axis=1) for x in functions.to_groups(interaction_data)]\n",
      "for i in range(1, 5):\n",
      "    a['block{}score'.format(i)] = a.apply(interaction.score, axis=1, block_number=i)\n",
      "    i += 4\n",
      "    b['block{}score'.format(i)] = b.apply(interaction.score, axis=1, block_number=i)"
     ],
     "language": "python",
     "metadata": {},
     "outputs": [],
     "prompt_number": 4
    },
    {
     "cell_type": "markdown",
     "metadata": {},
     "source": [
      "Question 1:"
     ]
    },
    {
     "cell_type": "code",
     "collapsed": false,
     "input": [
      "functions.ttest_summary(a['block21'], b['block61'])"
     ],
     "language": "python",
     "metadata": {},
     "outputs": [
      {
       "output_type": "stream",
       "stream": "stdout",
       "text": [
        "mean (a vs b): 2.72727272727\t2.75\n",
        "std  (a vs b): 0.962091385842\t1.01036297108\n",
        "t: -0.0527877850529\tp: 0.479200499575\n"
       ]
      }
     ],
     "prompt_number": 5
    },
    {
     "cell_type": "markdown",
     "metadata": {},
     "source": [
      "Question 2:"
     ]
    },
    {
     "cell_type": "code",
     "collapsed": false,
     "input": [
      "functions.ttest_summary(a['block22'], b['block62'])"
     ],
     "language": "python",
     "metadata": {},
     "outputs": [
      {
       "output_type": "stream",
       "stream": "stdout",
       "text": [
        "mean (a vs b): 2.63636363636\t1.83333333333\n",
        "std  (a vs b): 1.06794001132\t0.897527467856\n",
        "t: 1.85559852705\tp: 0.0393011197785\n"
       ]
      }
     ],
     "prompt_number": 6
    },
    {
     "cell_type": "markdown",
     "metadata": {},
     "source": [
      "Survey score:"
     ]
    },
    {
     "cell_type": "code",
     "collapsed": false,
     "input": [
      "functions.ttest_summary(a['block2score'], b['block6score'])"
     ],
     "language": "python",
     "metadata": {},
     "outputs": [
      {
       "output_type": "stream",
       "stream": "stdout",
       "text": [
        "mean (a vs b): 42.0454545455\t32.2916666667\n",
        "std  (a vs b): 16.2305191558\t13.9365501669\n",
        "t: 1.47043860928\tp: 0.0785750526335\n"
       ]
      }
     ],
     "prompt_number": 7
    },
    {
     "cell_type": "code",
     "collapsed": false,
     "input": [
      "diff_a = a['block3score'] - a['block1score']\n",
      "diff_b = b['block7score'] - b['block5score']\n",
      "functions.ttest_summary(diff_a, diff_b)"
     ],
     "language": "python",
     "metadata": {},
     "outputs": [
      {
       "output_type": "stream",
       "stream": "stdout",
       "text": [
        "mean (a vs b): 0.0\t-1.04166666667\n",
        "std  (a vs b): 25.5618679073\t11.9224199399\n",
        "t: 0.117747106735\tp: 0.453979067827\n"
       ]
      }
     ],
     "prompt_number": 9
    }
   ],
   "metadata": {}
  }
 ]
}