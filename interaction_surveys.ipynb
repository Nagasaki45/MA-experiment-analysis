{
 "cells": [
  {
   "cell_type": "markdown",
   "metadata": {},
   "source": [
    "Social interaction surveys analysis\n",
    "===================================\n",
    "\n",
    "The survey contain two questions:\n",
    "\n",
    "- *In the last experiment block I interacted with close friends only.*\n",
    "- *In the last experiment block I interacted with participants with them I have no social connection.*\n",
    "\n",
    "Each question scored between 1 and 5 by the participants.\n",
    "\n",
    "Each participant filled the survey 3 times, once after each experiment block.\n",
    "\n",
    "The following blocks presents one-sided t-tests between the answers of the 2nd block of each group (group A vs. group B., control vs. interaction) as well as one-sided t-test between several differences between the blocks."
   ]
  },
  {
   "cell_type": "code",
   "execution_count": 1,
   "metadata": {
    "collapsed": false
   },
   "outputs": [],
   "source": [
    "import collections\n",
    "\n",
    "from scipy import stats\n",
    "import matplotlib.pyplot as plt\n",
    "\n",
    "from utils import utils\n",
    "from utils import data as data_module\n",
    "\n",
    "%matplotlib inline"
   ]
  },
  {
   "cell_type": "markdown",
   "metadata": {},
   "source": [
    "Construct a dictionary where keys are tuples of (group, block) and values are participants answers (list)."
   ]
  },
  {
   "cell_type": "code",
   "execution_count": 2,
   "metadata": {
    "collapsed": false
   },
   "outputs": [],
   "source": [
    "csv_table = data_module.csv_table()\n",
    "interaction_data = csv_table[['block{}{}'.format(i, j) for i in range(1, 9)\n",
    "                                                       for j in range(1, 3)]]\n",
    "a, b = [x.dropna(axis=1) for x in data_module.to_groups(interaction_data)]\n",
    "d = collections.defaultdict(dict)\n",
    "for q_num in [1, 2]:\n",
    "    for i in [1, 2, 3]:\n",
    "        d[q_num][('A', i)] = a['block{}{}'.format(i, q_num)].values\n",
    "        d[q_num][('B', i)] = b['block{}{}'.format(i + 4, q_num)].values"
   ]
  },
  {
   "cell_type": "markdown",
   "metadata": {},
   "source": [
    "## Question 1\n",
    "\n",
    "*In the last experiment block I interacted with close friends only.*"
   ]
  },
  {
   "cell_type": "markdown",
   "metadata": {},
   "source": [
    "First, I will show that there was no a-priori difference between the groups, using independent two-sided t-test."
   ]
  },
  {
   "cell_type": "code",
   "execution_count": 3,
   "metadata": {
    "collapsed": false
   },
   "outputs": [
    {
     "name": "stdout",
     "output_type": "stream",
     "text": [
      "t_score: 1.1893820223434128\n",
      "p_value: 0.2475640994616678\n"
     ]
    }
   ],
   "source": [
    "q_num = 1\n",
    "t_score, p_value = stats.ttest_ind(d[q_num][('A', 1)], d[q_num][('B', 1)])\n",
    "print('t_score: {}\\np_value: {}'.format(t_score, p_value))"
   ]
  },
  {
   "cell_type": "code",
   "execution_count": 4,
   "metadata": {
    "collapsed": false
   },
   "outputs": [
    {
     "name": "stdout",
     "output_type": "stream",
     "text": [
      "A/1 -- mean: 3.18, stderr: 0.31\n",
      "A/2 -- mean: 2.73, stderr: 0.29\n",
      "A/3 -- mean: 2.55, stderr: 0.349\n",
      "B/1 -- mean: 2.75, stderr: 0.172\n",
      "B/2 -- mean: 2.75, stderr: 0.292\n",
      "B/3 -- mean: 2.67, stderr: 0.379\n"
     ]
    },
    {
     "data": {
      "image/png": "[encoded data removed]",
      "text/plain": [
       "<matplotlib.figure.Figure at 0x7f874c47f358>"
      ]
     },
     "metadata": {},
     "output_type": "display_data"
    }
   ],
   "source": [
    "utils.two_groups_three_bars(d[q_num], title='Question {}'.format(q_num), ylabel='Score', ylim=[0, 5])"
   ]
  },
  {
   "cell_type": "markdown",
   "metadata": {},
   "source": [
    "## Question 2\n",
    "\n",
    "*In the last experiment block I interacted with participants with them I have no social connection.*"
   ]
  },
  {
   "cell_type": "markdown",
   "metadata": {},
   "source": [
    "First, I will show that there was no a-priori difference between the groups, using independent two-sided t-test."
   ]
  },
  {
   "cell_type": "code",
   "execution_count": 5,
   "metadata": {
    "collapsed": false
   },
   "outputs": [
    {
     "name": "stdout",
     "output_type": "stream",
     "text": [
      "t_score: 0.18334997140046289\n",
      "p_value: 0.8562821499665009\n"
     ]
    }
   ],
   "source": [
    "q_num = 2\n",
    "t_score, p_value = stats.ttest_ind(d[q_num][('A', 1)], d[q_num][('B', 1)])\n",
    "print('t_score: {}\\np_value: {}'.format(t_score, p_value))"
   ]
  },
  {
   "cell_type": "code",
   "execution_count": 6,
   "metadata": {
    "collapsed": false
   },
   "outputs": [
    {
     "name": "stdout",
     "output_type": "stream",
     "text": [
      "A/1 -- mean: 1.91, stderr: 0.239\n",
      "A/2 -- mean: 2.64, stderr: 0.322\n",
      "A/3 -- mean: 2.55, stderr: 0.372\n",
      "B/1 -- mean: 1.83, stderr: 0.308\n",
      "B/2 -- mean: 1.83, stderr: 0.259\n",
      "B/3 -- mean: 1.83, stderr: 0.285\n"
     ]
    },
    {
     "data": {
      "image/png": "[encoded data removed]",
      "text/plain": [
       "<matplotlib.figure.Figure at 0x7f87414c4ef0>"
      ]
     },
     "metadata": {},
     "output_type": "display_data"
    }
   ],
   "source": [
    "utils.two_groups_three_bars(d[q_num], title='Question {}'.format(q_num), ylabel='Score', ylim=[0, 5])"
   ]
  },
  {
   "cell_type": "markdown",
   "metadata": {},
   "source": [
    "## The two plots on the same line, for paper"
   ]
  },
  {
   "cell_type": "code",
   "execution_count": 7,
   "metadata": {
    "collapsed": false
   },
   "outputs": [
    {
     "name": "stdout",
     "output_type": "stream",
     "text": [
      "A/1 -- mean: 3.18, stderr: 0.31\n",
      "A/2 -- mean: 2.73, stderr: 0.29\n",
      "A/3 -- mean: 2.55, stderr: 0.349\n",
      "B/1 -- mean: 2.75, stderr: 0.172\n",
      "B/2 -- mean: 2.75, stderr: 0.292\n",
      "B/3 -- mean: 2.67, stderr: 0.379\n",
      "A/1 -- mean: 1.91, stderr: 0.239\n",
      "A/2 -- mean: 2.64, stderr: 0.322\n",
      "A/3 -- mean: 2.55, stderr: 0.372\n",
      "B/1 -- mean: 1.83, stderr: 0.308\n",
      "B/2 -- mean: 1.83, stderr: 0.259\n",
      "B/3 -- mean: 1.83, stderr: 0.285\n"
     ]
    },
    {
     "data": {
      "image/png": "[encoded data removed]",
      "text/plain": [
       "<matplotlib.figure.Figure at 0x7f87183df160>"
      ]
     },
     "metadata": {},
     "output_type": "display_data"
    }
   ],
   "source": [
    "plt.figure(figsize=(10, 4))\n",
    "plt.subplot(1, 2, 1)\n",
    "utils.two_groups_three_bars(d[1], title='Statement 1', ylabel='Score', ylim=[0, 5])\n",
    "plt.subplot(1, 2, 2)\n",
    "utils.two_groups_three_bars(d[2], title='Statement 2', ylim=[0, 5])\n",
    "\n",
    "data_module.save_to_graphics('interaction_surveys-question_2')"
   ]
  },
  {
   "cell_type": "markdown",
   "metadata": {},
   "source": [
    "## Export cooked data"
   ]
  },
  {
   "cell_type": "code",
   "execution_count": 8,
   "metadata": {
    "collapsed": false
   },
   "outputs": [],
   "source": [
    "data_module.save_to_cooked(d[1], 'interaction_survey_q1')\n",
    "data_module.save_to_cooked(d[2], 'interaction_survey_q2')\n",
    "\n",
    "# question 2 shows interesting results even for block 1 and 2 only\n",
    "exclude_3 = {(group, block): values for (group, block), values in d[2].items() if block != 3}\n",
    "data_module.save_to_cooked(exclude_3, 'interaction_survey_q2_session_1_vs_2')"
   ]
  }
 ],
 "metadata": {
  "kernelspec": {
   "display_name": "Python 3",
   "language": "python",
   "name": "python3"
  },
  "language_info": {
   "codemirror_mode": {
    "name": "ipython",
    "version": 3
   },
   "file_extension": ".py",
   "mimetype": "text/x-python",
   "name": "python",
   "nbconvert_exporter": "python",
   "pygments_lexer": "ipython3",
   "version": "3.4.3"
  }
 },
 "nbformat": 4,
 "nbformat_minor": 0
}
