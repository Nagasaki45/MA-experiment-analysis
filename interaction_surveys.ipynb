{
 "metadata": {
  "name": "",
  "signature": "sha256:7edb0b8c18d7fc373cbf703d16b043aa4de90547a7defa37a00560acdd34c7e7"
 },
 "nbformat": 3,
 "nbformat_minor": 0,
 "worksheets": [
  {
   "cells": [
    {
     "cell_type": "markdown",
     "metadata": {},
     "source": [
      "Social interaction surveys analysis\n",
      "===================================\n",
      "\n",
      "The survey contain two questions:\n",
      "\n",
      "- *In the last experiment block I interacted with close friends only.*\n",
      "- *In the last experiment block I interacted with participants with them I have no social connection.*\n",
      "\n",
      "Each question scored between 1 and 5 by the participants.\n",
      "\n",
      "Each participant filled the survey 3 times, once after each experiment block.\n",
      "\n",
      "The following blocks presents one-sided t-tests between the answers of the 2nd block of each group (group A vs. group B., control vs. interaction) as well as one-sided t-test between several differences between the blocks."
     ]
    },
    {
     "cell_type": "code",
     "collapsed": false,
     "input": [
      "import matplotlib.pyplot as plt\n",
      "\n",
      "from utils import utils, interaction\n",
      "from utils import data as data_module\n",
      "\n",
      "%matplotlib inline"
     ],
     "language": "python",
     "metadata": {},
     "outputs": [],
     "prompt_number": 1
    },
    {
     "cell_type": "code",
     "collapsed": false,
     "input": [
      "interaction_data = interaction.load_tables()\n",
      "a, b = [x.dropna(axis=1) for x in data_module.to_groups(interaction_data)]"
     ],
     "language": "python",
     "metadata": {},
     "outputs": [],
     "prompt_number": 2
    },
    {
     "cell_type": "code",
     "collapsed": false,
     "input": [
      "def two_questions_test_summary(a, b, block, title='', ylim=None):\n",
      "    '''\n",
      "    Utility function to summerize the two questions statistics using one sided, independet t-test and bar plots.\n",
      "    - block: the number of the block to summerize or a tuple with the blocks to apply diff to.\n",
      "    '''\n",
      "    \n",
      "    def resolve(a, b, block, question):\n",
      "        '''Resolve the array to use each time according to the block (or blocks) and the question number.'''\n",
      "        \n",
      "        if isinstance(block, int):\n",
      "            first = a['block{}{}'.format(block, question)]\n",
      "            second = b['block{}{}'.format(block + 4, question)]\n",
      "        else:\n",
      "            first = a['block{}{}'.format(block[1], question)] - a['block{}{}'.format(block[0], question)]\n",
      "            second = b['block{}{}'.format(block[1] + 4, question)] - b['block{}{}'.format(block[0] + 4, question)]\n",
      "        return first, second\n",
      "\n",
      "    fig = plt.figure()\n",
      "    fig.suptitle(title)\n",
      "    print('Question 1 statistics')\n",
      "    ax = plt.subplot(1, 2, 1)\n",
      "    first, second = resolve(a, b, block, 1)\n",
      "    utils.independent_one_sided_ttest_summary(first, second, ylim=ylim, xlabel='Question 1')\n",
      "    print()\n",
      "    print('Question 2 statistics')\n",
      "    first, second = resolve(a, b, block, 2)\n",
      "    plt.subplot(1, 2, 2, sharey=ax)\n",
      "    utils.independent_one_sided_ttest_summary(first, second, ylim=ylim, xlabel='Question 2')\n",
      "    print()"
     ],
     "language": "python",
     "metadata": {},
     "outputs": [],
     "prompt_number": 3
    },
    {
     "cell_type": "code",
     "collapsed": false,
     "input": [
      "two_questions_test_summary(a, b, 1, title='First block', ylim=(1, 5))"
     ],
     "language": "python",
     "metadata": {},
     "outputs": [
      {
       "output_type": "stream",
       "stream": "stdout",
       "text": [
        "Question 1 statistics\n",
        "mean (a vs b): 3.1818181818181817\t2.75"
       ]
      },
      {
       "output_type": "stream",
       "stream": "stdout",
       "text": [
        "\n",
        "std  (a vs b): 1.02851895445316\t0.5951190357119042\n",
        "t: 1.1624908929177873\tp: 0.13120569003359758\n",
        "\n",
        "Question 2 statistics\n",
        "mean (a vs b): 1.9090909090909092\t1.8333333333333333"
       ]
      },
      {
       "output_type": "stream",
       "stream": "stdout",
       "text": [
        "\n",
        "std  (a vs b): 0.7925270806437587\t1.0671873729054746\n",
        "t: 0.18574658568407926\tp: 0.42724745921052754\n",
        "\n"
       ]
      },
      {
       "metadata": {},
       "output_type": "display_data",
       "png": "[encoded data removed]",
       "text": [
        "<matplotlib.figure.Figure at 0x7f0dc3da66d8>"
       ]
      }
     ],
     "prompt_number": 4
    },
    {
     "cell_type": "code",
     "collapsed": false,
     "input": [
      "two_questions_test_summary(a, b, 2, title='Second block', ylim=(1, 5))"
     ],
     "language": "python",
     "metadata": {},
     "outputs": [
      {
       "output_type": "stream",
       "stream": "stdout",
       "text": [
        "Question 1 statistics\n",
        "mean (a vs b): 2.727272727272727\t2.75"
       ]
      },
      {
       "output_type": "stream",
       "stream": "stdout",
       "text": [
        "\n",
        "std  (a vs b): 0.9620913858416695\t1.0103629710818451\n",
        "t: -0.05278778505288484\tp: 0.4792004995752378\n",
        "\n",
        "Question 2 statistics\n",
        "mean (a vs b): 2.6363636363636362\t1.8333333333333333"
       ]
      },
      {
       "output_type": "stream",
       "stream": "stdout",
       "text": [
        "\n",
        "std  (a vs b): 1.067940011315521\t0.8975274678557505\n",
        "t: 1.8555985270530293\tp: 0.03930111977849828\n",
        "\n"
       ]
      },
      {
       "metadata": {},
       "output_type": "display_data",
       "png": "[encoded data removed]",
       "text": [
        "<matplotlib.figure.Figure at 0x7f0dc3a9eb00>"
       ]
      }
     ],
     "prompt_number": 5
    },
    {
     "cell_type": "code",
     "collapsed": false,
     "input": [
      "two_questions_test_summary(a, b, 3, title='Third block', ylim=(1, 5))"
     ],
     "language": "python",
     "metadata": {},
     "outputs": [
      {
       "output_type": "stream",
       "stream": "stdout",
       "text": [
        "Question 1 statistics\n",
        "mean (a vs b): 2.5454545454545454\t2.6666666666666665"
       ]
      },
      {
       "output_type": "stream",
       "stream": "stdout",
       "text": [
        "\n",
        "std  (a vs b): 1.1570838237598053\t1.3123346456686353\n",
        "t: -0.22491084403554262\tp: 0.4121123744552811\n",
        "\n",
        "Question 2 statistics\n",
        "mean (a vs b): 2.5454545454545454\t1.8333333333333333"
       ]
      },
      {
       "output_type": "stream",
       "stream": "stdout",
       "text": [
        "\n",
        "std  (a vs b): 1.2331509060227763\t0.9860132971832692\n",
        "t: 1.4522506286746013\tp: 0.08131931306468917\n",
        "\n"
       ]
      },
      {
       "metadata": {},
       "output_type": "display_data",
       "png": "[encoded data removed]",
       "text": [
        "<matplotlib.figure.Figure at 0x7f0dc38ba6a0>"
       ]
      }
     ],
     "prompt_number": 6
    },
    {
     "cell_type": "code",
     "collapsed": false,
     "input": [
      "two_questions_test_summary(a, b, block=[1, 3], title='Difference between 1st and 3rd blocks')"
     ],
     "language": "python",
     "metadata": {},
     "outputs": [
      {
       "output_type": "stream",
       "stream": "stdout",
       "text": [
        "Question 1 statistics\n",
        "mean (a vs b): -0.6363636363636364\t-0.08333333333333333"
       ]
      },
      {
       "output_type": "stream",
       "stream": "stdout",
       "text": [
        "\n",
        "std  (a vs b): 1.6663911618021237\t1.1873172373979173\n",
        "t: -0.8681008031561899\tp: 0.1984159560549557\n",
        "\n",
        "Question 2 statistics\n",
        "mean (a vs b): 0.6363636363636364\t0.0"
       ]
      },
      {
       "output_type": "stream",
       "stream": "stdout",
       "text": [
        "\n",
        "std  (a vs b): 1.067940011315521\t0.816496580927726\n",
        "t: 1.522698915538362\tp: 0.07230010005401276\n",
        "\n"
       ]
      },
      {
       "metadata": {},
       "output_type": "display_data",
       "png": "[encoded data removed]",
       "text": [
        "<matplotlib.figure.Figure at 0x7f0dc3adfeb8>"
       ]
      }
     ],
     "prompt_number": 7
    },
    {
     "cell_type": "code",
     "collapsed": false,
     "input": [
      "two_questions_test_summary(a, b, block=[1, 2], title='Difference between 1st and 2nd blocks')"
     ],
     "language": "python",
     "metadata": {},
     "outputs": [
      {
       "output_type": "stream",
       "stream": "stdout",
       "text": [
        "Question 1 statistics\n",
        "mean (a vs b): -0.45454545454545453\t0.0"
       ]
      },
      {
       "output_type": "stream",
       "stream": "stdout",
       "text": [
        "\n",
        "std  (a vs b): 0.8907235428302466\t1.224744871391589\n",
        "t: -0.978700365857839\tp: 0.16969353768820167\n",
        "\n",
        "Question 2 statistics\n",
        "mean (a vs b): 0.7272727272727273\t0.0"
       ]
      },
      {
       "output_type": "stream",
       "stream": "stdout",
       "text": [
        "\n",
        "std  (a vs b): 0.8624393618641034\t0.7071067811865476\n",
        "t: 2.100902925755561\tp: 0.024477242205815906\n",
        "\n"
       ]
      },
      {
       "metadata": {},
       "output_type": "display_data",
       "png": "[encoded data removed]",
       "text": [
        "<matplotlib.figure.Figure at 0x7f0dc3987da0>"
       ]
      }
     ],
     "prompt_number": 8
    },
    {
     "cell_type": "code",
     "collapsed": false,
     "input": [
      "two_questions_test_summary(a, b, block=[2, 3], title='Difference between 2nd and the 3rd blocks')"
     ],
     "language": "python",
     "metadata": {},
     "outputs": [
      {
       "output_type": "stream",
       "stream": "stdout",
       "text": [
        "Question 1 statistics\n",
        "mean (a vs b): -0.18181818181818182\t-0.08333333333333333"
       ]
      },
      {
       "output_type": "stream",
       "stream": "stdout",
       "text": [
        "\n",
        "std  (a vs b): 1.526623238522424\t1.114924013354971\n",
        "t: -0.16741404838742158\tp: 0.43444692865868256\n",
        "\n",
        "Question 2 statistics\n",
        "mean (a vs b): -0.09090909090909091\t0.0"
       ]
      },
      {
       "output_type": "stream",
       "stream": "stdout",
       "text": [
        "\n",
        "std  (a vs b): 1.443137078762504\t0.816496580927726\n",
        "t: -0.1753217183295692\tp: 0.43155010997572424\n",
        "\n"
       ]
      },
      {
       "metadata": {},
       "output_type": "display_data",
       "png": "[encoded data removed]",
       "text": [
        "<matplotlib.figure.Figure at 0x7f0dc3b4b0f0>"
       ]
      }
     ],
     "prompt_number": 9
    }
   ],
   "metadata": {}
  }
 ]
}