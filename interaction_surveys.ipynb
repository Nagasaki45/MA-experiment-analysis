{
 "metadata": {
  "name": "",
  "signature": "sha256:2b284004bab389bf65798467f3ccd0bc0f9abb319cb317b8147ed6d78fdcce4a"
 },
 "nbformat": 3,
 "nbformat_minor": 0,
 "worksheets": [
  {
   "cells": [
    {
     "cell_type": "markdown",
     "metadata": {},
     "source": [
      "Social interaction surveys analysis\n",
      "===================================\n",
      "\n",
      "The survey contain two questions:\n",
      "\n",
      "- *In the last experiment block I interacted with close friends only.*\n",
      "- *In the last experiment block I interacted with participants with them I have no social connection.*\n",
      "\n",
      "Each question scored between 1 and 5 by the participants.\n",
      "\n",
      "Each participant filled the survey 3 times, once after each experiment block.\n",
      "\n",
      "The following blocks presents one-sided t-tests between the answers of the 2nd block of each group (group A vs. group B., control vs. interaction) as well as one-sided t-test between several differences between the blocks."
     ]
    },
    {
     "cell_type": "code",
     "collapsed": false,
     "input": [
      "import collections\n",
      "\n",
      "from scipy import stats\n",
      "import matplotlib.pyplot as plt\n",
      "\n",
      "from utils import utils\n",
      "from utils import data as data_module\n",
      "\n",
      "%matplotlib inline"
     ],
     "language": "python",
     "metadata": {},
     "outputs": [],
     "prompt_number": 1
    },
    {
     "cell_type": "markdown",
     "metadata": {},
     "source": [
      "Construct a dictionary where keys are tuples of (group, block) and values are participants answers (list)."
     ]
    },
    {
     "cell_type": "code",
     "collapsed": false,
     "input": [
      "csv_table = data_module.csv_table()\n",
      "interaction_data = csv_table[['block{}{}'.format(i, j) for i in range(1, 9)\n",
      "                                                       for j in range(1, 3)]]\n",
      "a, b = [x.dropna(axis=1) for x in data_module.to_groups(interaction_data)]\n",
      "d = collections.defaultdict(dict)\n",
      "for q_num in [1, 2]:\n",
      "    for i in [1, 2, 3]:\n",
      "        d[q_num][('A', i)] = a['block{}{}'.format(i, q_num)].values\n",
      "        d[q_num][('B', i)] = b['block{}{}'.format(i + 4, q_num)].values"
     ],
     "language": "python",
     "metadata": {},
     "outputs": [],
     "prompt_number": 2
    },
    {
     "cell_type": "markdown",
     "metadata": {},
     "source": [
      "## Question 1\n",
      "\n",
      "*In the last experiment block I interacted with close friends only.*"
     ]
    },
    {
     "cell_type": "markdown",
     "metadata": {},
     "source": [
      "First, I will show that there was no a-priori difference between the groups, using independent two-sided t-test."
     ]
    },
    {
     "cell_type": "code",
     "collapsed": false,
     "input": [
      "q_num = 1\n",
      "t_score, p_value = stats.ttest_ind(d[q_num][('A', 1)], d[q_num][('B', 1)])\n",
      "print('t_score: {}\\np_value: {}'.format(t_score, p_value))"
     ],
     "language": "python",
     "metadata": {},
     "outputs": [
      {
       "output_type": "stream",
       "stream": "stdout",
       "text": [
        "t_score: 1.1893820223434128\n",
        "p_value: 0.2475640994616678\n"
       ]
      }
     ],
     "prompt_number": 3
    },
    {
     "cell_type": "code",
     "collapsed": false,
     "input": [
      "utils.two_groups_three_bars(d[q_num], title='Question {}'.format(q_num), ylabel='Score', ylim=[0, 5])\n",
      "utils.anova(d[q_num])"
     ],
     "language": "python",
     "metadata": {},
     "outputs": [
      {
       "output_type": "stream",
       "stream": "stdout",
       "text": [
        "A/1 -- mean: 3.18, stderr: 0.31\n",
        "A/2 -- mean: 2.73, stderr: 0.29\n",
        "A/3 -- mean: 2.55, stderr: 0.349\n",
        "B/1 -- mean: 2.75, stderr: 0.172\n",
        "B/2 -- mean: 2.75, stderr: 0.292\n",
        "B/3 -- mean: 2.67, stderr: 0.379\n"
       ]
      },
      {
       "html": [
        "<div style=\"max-height:1000px;max-width:1500px;overflow:auto;\">\n",
        "<table border=\"1\" class=\"dataframe\">\n",
        "  <thead>\n",
        "    <tr style=\"text-align: right;\">\n",
        "      <th></th>\n",
        "      <th>df</th>\n",
        "      <th>sum_sq</th>\n",
        "      <th>mean_sq</th>\n",
        "      <th>F</th>\n",
        "      <th>PR(&gt;F)</th>\n",
        "    </tr>\n",
        "  </thead>\n",
        "  <tbody>\n",
        "    <tr>\n",
        "      <th>C(group)</th>\n",
        "      <td>  1</td>\n",
        "      <td>  0.158542</td>\n",
        "      <td> 0.158542</td>\n",
        "      <td> 0.135502</td>\n",
        "      <td> 0.714028</td>\n",
        "    </tr>\n",
        "    <tr>\n",
        "      <th>C(block)</th>\n",
        "      <td>  2</td>\n",
        "      <td>  1.420290</td>\n",
        "      <td> 0.710145</td>\n",
        "      <td> 0.606944</td>\n",
        "      <td> 0.548169</td>\n",
        "    </tr>\n",
        "    <tr>\n",
        "      <th>C(group):C(block)</th>\n",
        "      <td>  2</td>\n",
        "      <td>  0.998902</td>\n",
        "      <td> 0.499451</td>\n",
        "      <td> 0.426869</td>\n",
        "      <td> 0.654422</td>\n",
        "    </tr>\n",
        "    <tr>\n",
        "      <th>Residual</th>\n",
        "      <td> 63</td>\n",
        "      <td> 73.712121</td>\n",
        "      <td> 1.170034</td>\n",
        "      <td>      NaN</td>\n",
        "      <td>      NaN</td>\n",
        "    </tr>\n",
        "  </tbody>\n",
        "</table>\n",
        "<p>4 rows \u00d7 5 columns</p>\n",
        "</div>"
       ],
       "metadata": {},
       "output_type": "pyout",
       "prompt_number": 4,
       "text": [
        "                   df     sum_sq   mean_sq         F    PR(>F)\n",
        "C(group)            1   0.158542  0.158542  0.135502  0.714028\n",
        "C(block)            2   1.420290  0.710145  0.606944  0.548169\n",
        "C(group):C(block)   2   0.998902  0.499451  0.426869  0.654422\n",
        "Residual           63  73.712121  1.170034       NaN       NaN\n",
        "\n",
        "[4 rows x 5 columns]"
       ]
      },
      {
       "metadata": {},
       "output_type": "display_data",
       "png": "[encoded data removed]",
       "text": [
        "<matplotlib.figure.Figure at 0x7f1fb4643978>"
       ]
      }
     ],
     "prompt_number": 4
    },
    {
     "cell_type": "markdown",
     "metadata": {},
     "source": [
      "## Question 2\n",
      "\n",
      "*In the last experiment block I interacted with participants with them I have no social connection.*"
     ]
    },
    {
     "cell_type": "markdown",
     "metadata": {},
     "source": [
      "First, I will show that there was no a-priori difference between the groups, using independent two-sided t-test."
     ]
    },
    {
     "cell_type": "code",
     "collapsed": false,
     "input": [
      "q_num = 2\n",
      "t_score, p_value = stats.ttest_ind(d[q_num][('A', 1)], d[q_num][('B', 1)])\n",
      "print('t_score: {}\\np_value: {}'.format(t_score, p_value))"
     ],
     "language": "python",
     "metadata": {},
     "outputs": [
      {
       "output_type": "stream",
       "stream": "stdout",
       "text": [
        "t_score: 0.18334997140046289\n",
        "p_value: 0.8562821499665009\n"
       ]
      }
     ],
     "prompt_number": 5
    },
    {
     "cell_type": "code",
     "collapsed": false,
     "input": [
      "utils.two_groups_three_bars(d[q_num], title='Question {}'.format(q_num), ylabel='Score', ylim=[0, 5])\n",
      "utils.anova(d[q_num])"
     ],
     "language": "python",
     "metadata": {},
     "outputs": [
      {
       "output_type": "stream",
       "stream": "stdout",
       "text": [
        "A/1 -- mean: 1.91, stderr: 0.239\n",
        "A/2 -- mean: 2.64, stderr: 0.322\n",
        "A/3 -- mean: 2.55, stderr: 0.372\n",
        "B/1 -- mean: 1.83, stderr: 0.308\n",
        "B/2 -- mean: 1.83, stderr: 0.259\n",
        "B/3 -- mean: 1.83, stderr: 0.285\n"
       ]
      },
      {
       "html": [
        "<div style=\"max-height:1000px;max-width:1500px;overflow:auto;\">\n",
        "<table border=\"1\" class=\"dataframe\">\n",
        "  <thead>\n",
        "    <tr style=\"text-align: right;\">\n",
        "      <th></th>\n",
        "      <th>df</th>\n",
        "      <th>sum_sq</th>\n",
        "      <th>mean_sq</th>\n",
        "      <th>F</th>\n",
        "      <th>PR(&gt;F)</th>\n",
        "    </tr>\n",
        "  </thead>\n",
        "  <tbody>\n",
        "    <tr>\n",
        "      <th>C(group)</th>\n",
        "      <td>  1</td>\n",
        "      <td>  4.841897</td>\n",
        "      <td> 4.841897</td>\n",
        "      <td> 4.285357</td>\n",
        "      <td> 0.042547</td>\n",
        "    </tr>\n",
        "    <tr>\n",
        "      <th>C(block)</th>\n",
        "      <td>  2</td>\n",
        "      <td>  1.652174</td>\n",
        "      <td> 0.826087</td>\n",
        "      <td> 0.731134</td>\n",
        "      <td> 0.485402</td>\n",
        "    </tr>\n",
        "    <tr>\n",
        "      <th>C(group):C(block)</th>\n",
        "      <td>  2</td>\n",
        "      <td>  1.802372</td>\n",
        "      <td> 0.901186</td>\n",
        "      <td> 0.797601</td>\n",
        "      <td> 0.454903</td>\n",
        "    </tr>\n",
        "    <tr>\n",
        "      <th>Residual</th>\n",
        "      <td> 63</td>\n",
        "      <td> 71.181818</td>\n",
        "      <td> 1.129870</td>\n",
        "      <td>      NaN</td>\n",
        "      <td>      NaN</td>\n",
        "    </tr>\n",
        "  </tbody>\n",
        "</table>\n",
        "<p>4 rows \u00d7 5 columns</p>\n",
        "</div>"
       ],
       "metadata": {},
       "output_type": "pyout",
       "prompt_number": 6,
       "text": [
        "                   df     sum_sq   mean_sq         F    PR(>F)\n",
        "C(group)            1   4.841897  4.841897  4.285357  0.042547\n",
        "C(block)            2   1.652174  0.826087  0.731134  0.485402\n",
        "C(group):C(block)   2   1.802372  0.901186  0.797601  0.454903\n",
        "Residual           63  71.181818  1.129870       NaN       NaN\n",
        "\n",
        "[4 rows x 5 columns]"
       ]
      },
      {
       "metadata": {},
       "output_type": "display_data",
       "png": "[encoded data removed]",
       "text": [
        "<matplotlib.figure.Figure at 0x7f1f81440c50>"
       ]
      }
     ],
     "prompt_number": 6
    },
    {
     "cell_type": "markdown",
     "metadata": {},
     "source": [
      "## Export cooked data"
     ]
    },
    {
     "cell_type": "code",
     "collapsed": false,
     "input": [
      "data_module.save_to_cooked(d[1], 'interaction_survey_q1')\n",
      "data_module.save_to_cooked(d[2], 'interaction_survey_q2')\n",
      "\n",
      "# question 2 shows interesting results even for block 1 and 2 only\n",
      "exclude_3 = {(group, block): values for (group, block), values in d[2].items() if block != 3}\n",
      "data_module.save_to_cooked(exclude_3, 'interaction_survey_q2_session_1_vs_2')"
     ],
     "language": "python",
     "metadata": {},
     "outputs": [],
     "prompt_number": 7
    }
   ],
   "metadata": {}
  }
 ]
}