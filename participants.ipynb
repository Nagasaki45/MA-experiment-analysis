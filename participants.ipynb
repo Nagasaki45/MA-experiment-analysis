{
 "metadata": {
  "name": "",
  "signature": "sha256:84058f833726b8ea29a3031f5c93597adf1d618348cfea208bfd32aad424ebd9"
 },
 "nbformat": 3,
 "nbformat_minor": 0,
 "worksheets": [
  {
   "cells": [
    {
     "cell_type": "code",
     "collapsed": false,
     "input": [
      "from utils import data as data_module"
     ],
     "language": "python",
     "metadata": {},
     "outputs": [],
     "prompt_number": 1
    },
    {
     "cell_type": "markdown",
     "metadata": {},
     "source": [
      "# General"
     ]
    },
    {
     "cell_type": "code",
     "collapsed": false,
     "input": [
      "table = data_module.csv_table()\n",
      "print('Total num of participants:')\n",
      "len(table)"
     ],
     "language": "python",
     "metadata": {},
     "outputs": [
      {
       "output_type": "stream",
       "stream": "stdout",
       "text": [
        "Total num of participants:\n"
       ]
      },
      {
       "metadata": {},
       "output_type": "pyout",
       "prompt_number": 2,
       "text": [
        "23"
       ]
      }
     ],
     "prompt_number": 2
    },
    {
     "cell_type": "markdown",
     "metadata": {},
     "source": [
      "# Per group statistics"
     ]
    },
    {
     "cell_type": "code",
     "collapsed": false,
     "input": [
      "for group_name, group in zip(['A', 'B'], data_module.to_groups(table)):\n",
      "    male = len(group[group['sex'] == 1])\n",
      "    female = len(group[group['sex'] == 2])\n",
      "    print('Group {}'.format(group_name))\n",
      "    print('Num of participants: {}'.format(len(group)))\n",
      "    print('Male: {}, Female: {}'.format(male, female))\n",
      "    print('Mean age: {:.2f}'.format(group['age'].mean()))\n",
      "    print('Age std: {:.2f}'.format(group['age'].std()))\n",
      "    print()"
     ],
     "language": "python",
     "metadata": {},
     "outputs": [
      {
       "output_type": "stream",
       "stream": "stdout",
       "text": [
        "Group A\n",
        "Num of participants: 11\n",
        "Male: 6, Female: 5\n",
        "Mean age: 18.70\n",
        "Age std: 5.41\n",
        "\n",
        "Group B\n",
        "Num of participants: 12\n",
        "Male: 7, Female: 5\n",
        "Mean age: 17.18\n",
        "Age std: 0.42\n",
        "\n"
       ]
      }
     ],
     "prompt_number": 3
    },
    {
     "cell_type": "markdown",
     "metadata": {},
     "source": [
      "# Musical education"
     ]
    },
    {
     "cell_type": "code",
     "collapsed": false,
     "input": [
      "print('Mean musical education (years) {:.2f}'.format(table.education_years.mean()))\n",
      "print('Musical education std (years) {:.2f}'.format(table.education_years.std()))"
     ],
     "language": "python",
     "metadata": {},
     "outputs": [
      {
       "output_type": "stream",
       "stream": "stdout",
       "text": [
        "Mean musical education (years) 4.17\n",
        "Musical education std (years) 2.53\n"
       ]
      }
     ],
     "prompt_number": 4
    }
   ],
   "metadata": {}
  }
 ]
}