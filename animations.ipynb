{
 "metadata": {
  "name": "",
  "signature": "sha256:9b3c36ae04b9ab6193f75418d113240ab4012d2a88a62c8074531756c321717d"
 },
 "nbformat": 3,
 "nbformat_minor": 0,
 "worksheets": [
  {
   "cells": [
    {
     "cell_type": "markdown",
     "metadata": {},
     "source": [
      "Animations preview\n",
      "==================\n",
      "\n",
      "Previewing the movement of the participants in each group / block pair in order to gain insites from the data."
     ]
    },
    {
     "cell_type": "code",
     "collapsed": false,
     "input": [
      "from JSAnimation import IPython_display\n",
      "\n",
      "from utils import animations\n",
      "\n",
      "%matplotlib inline"
     ],
     "language": "python",
     "metadata": {},
     "outputs": []
    },
    {
     "cell_type": "code",
     "collapsed": false,
     "input": [
      "a1 = animations.animate(group='A', block=1)\n",
      "a1"
     ],
     "language": "python",
     "metadata": {},
     "outputs": []
    },
    {
     "cell_type": "code",
     "collapsed": false,
     "input": [
      "a2 = animations.animate(group='A', block=2)\n",
      "a2"
     ],
     "language": "python",
     "metadata": {},
     "outputs": []
    },
    {
     "cell_type": "code",
     "collapsed": false,
     "input": [
      "a3 = animations.animate(group='A', block=3)\n",
      "a3"
     ],
     "language": "python",
     "metadata": {},
     "outputs": []
    },
    {
     "cell_type": "code",
     "collapsed": false,
     "input": [
      "b1 = animations.animate(group='B', block=1)\n",
      "b1"
     ],
     "language": "python",
     "metadata": {},
     "outputs": []
    },
    {
     "cell_type": "code",
     "collapsed": false,
     "input": [
      "b2 = animations.animate(group='B', block=2)\n",
      "b2"
     ],
     "language": "python",
     "metadata": {},
     "outputs": []
    },
    {
     "cell_type": "code",
     "collapsed": false,
     "input": [
      "b3 = animations.animate(group='B', block=3)\n",
      "b3"
     ],
     "language": "python",
     "metadata": {},
     "outputs": []
    },
    {
     "cell_type": "code",
     "collapsed": false,
     "input": [
      "a1.save('animations/a1.avi', writer='ffmpeg', dpi=300)\n",
      "a2.save('animations/a2.avi', writer='ffmpeg', dpi=300)\n",
      "a3.save('animations/a3.avi', writer='ffmpeg', dpi=300)\n",
      "b1.save('animations/b1.avi', writer='ffmpeg', dpi=300)\n",
      "b2.save('animations/b2.avi', writer='ffmpeg', dpi=300)\n",
      "b3.save('animations/b3.avi', writer='ffmpeg', dpi=300)"
     ],
     "language": "python",
     "metadata": {},
     "outputs": []
    }
   ],
   "metadata": {}
  }
 ]
}