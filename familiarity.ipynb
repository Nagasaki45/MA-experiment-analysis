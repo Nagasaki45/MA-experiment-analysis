{
 "metadata": {
  "name": "",
  "signature": "sha256:a272e4330a19e9fb15067fefe84092a9478adce55ea314d7adf3f66f83c12df1"
 },
 "nbformat": 3,
 "nbformat_minor": 0,
 "worksheets": [
  {
   "cells": [
    {
     "cell_type": "markdown",
     "metadata": {},
     "source": [
      "Familiarity surveys analysis\n",
      "============================\n",
      "\n",
      "Before the experiment each participant filled a familiarity survey and thereby score he's or she's social familiarity with every  participant in the experiment group. The scores range from 1 to 5."
     ]
    },
    {
     "cell_type": "code",
     "collapsed": false,
     "input": [
      "import collections\n",
      "\n",
      "import numpy as np\n",
      "import matplotlib.pyplot as plt\n",
      "from sklearn import cluster\n",
      "\n",
      "from utils import utils, familiarity\n",
      "from utils import data as data_module\n",
      "\n",
      "%matplotlib inline"
     ],
     "language": "python",
     "metadata": {},
     "outputs": [],
     "prompt_number": 1
    },
    {
     "cell_type": "markdown",
     "metadata": {},
     "source": [
      "Here are maps of the social familiarity of the participants."
     ]
    },
    {
     "cell_type": "code",
     "collapsed": false,
     "input": [
      "familiarities = {g: familiarity.load_table(g) for g in ['A', 'B']}\n",
      "for i, (group, mat) in enumerate(sorted(familiarities.items()), start=1):\n",
      "    plt.subplot(1, 2, i)\n",
      "    familiarity.show_map(mat)\n",
      "    plt.xlabel('Group {}'.format(group))"
     ],
     "language": "python",
     "metadata": {},
     "outputs": [
      {
       "metadata": {},
       "output_type": "display_data",
       "png": "[encoded data removed]",
       "text": [
        "<matplotlib.figure.Figure at 0x7f378ae3a5c0>"
       ]
      }
     ],
     "prompt_number": 2
    },
    {
     "cell_type": "markdown",
     "metadata": {},
     "source": [
      "## Clustering\n",
      "\n",
      "Our hypothesis based on the ability to cluster each group into socially cohisive clusters."
     ]
    },
    {
     "cell_type": "markdown",
     "metadata": {},
     "source": [
      "Fill NaNs"
     ]
    },
    {
     "cell_type": "code",
     "collapsed": false,
     "input": [
      "for mat in familiarities.values():\n",
      "    mat.fillna(0, inplace=True)"
     ],
     "language": "python",
     "metadata": {},
     "outputs": [],
     "prompt_number": 3
    },
    {
     "cell_type": "markdown",
     "metadata": {},
     "source": [
      "Participants social clustering and rearrangement."
     ]
    },
    {
     "cell_type": "code",
     "collapsed": false,
     "input": [
      "for group in ['A', 'B']:\n",
      "    mat = familiarities[group].values\n",
      "    mat2 = (mat > 0.5)*1.0;\n",
      "    features = np.dot(mat2, mat2.transpose())\n",
      "    features_diag = features[np.eye(*features.shape, dtype=bool)]\n",
      "    features_diag = features_diag[:, np.newaxis]\n",
      "    features /= features_diag\n",
      "    _, labels, _ = cluster.k_means(features, 3, max_iter=1000, n_init=100)\n",
      "#     labels = cluster.spectral_clustering(mat2, 3)\n",
      "    participants = data_module.get_participants(group)\n",
      "    clusters = collections.defaultdict(list)\n",
      "    for label, participant in zip(labels, participants):\n",
      "        clusters[label].append(participant)\n",
      "    print('Group {}: {}'.format(group, dict(clusters)))\n",
      "    idx = [p for i, p in sorted(zip(labels, participants))]\n",
      "    familiarities[group] = familiarities[group].loc[idx, idx]\n",
      "    \n",
      "for i, group_name in enumerate(['A', 'B'], start=1):\n",
      "    plt.subplot(1, 2, i)\n",
      "    familiarity.show_map(familiarities[group_name])\n",
      "    plt.xlabel('Group {}'.format(group_name))"
     ],
     "language": "python",
     "metadata": {},
     "outputs": [
      {
       "output_type": "stream",
       "stream": "stdout",
       "text": [
        "Group A: {0: [6, 7, 8, 13, 16], 1: [4, 9, 10, 11], 2: [14, 15]}\n",
        "Group B: {0: [24, 25, 29, 30], 1: [21, 22, 27, 28, 36], 2: [31, 34, 35]}"
       ]
      },
      {
       "output_type": "stream",
       "stream": "stdout",
       "text": [
        "\n"
       ]
      },
      {
       "metadata": {},
       "output_type": "display_data",
       "png": "[encoded data removed]",
       "text": [
        "<matplotlib.figure.Figure at 0x7f378aaca390>"
       ]
      }
     ],
     "prompt_number": 4
    }
   ],
   "metadata": {}
  }
 ]
}