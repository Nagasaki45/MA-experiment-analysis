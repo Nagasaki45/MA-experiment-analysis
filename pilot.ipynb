{
 "metadata": {
  "name": "",
  "signature": "sha256:9c82f6c1ef44549ea2a9875c3fe9ff70b07969f24d4a58de5e773b3a3e716c6b"
 },
 "nbformat": 3,
 "nbformat_minor": 0,
 "worksheets": [
  {
   "cells": [
    {
     "cell_type": "markdown",
     "metadata": {},
     "source": [
      "Analysis of pilot data. Mainly for cohesive graphic style\n",
      "========================================================="
     ]
    },
    {
     "cell_type": "markdown",
     "metadata": {},
     "source": [
      "## Familiarity maps and positioning correlation (across the y axis)"
     ]
    },
    {
     "cell_type": "code",
     "collapsed": false,
     "input": [
      "import os\n",
      "\n",
      "import pandas as pd\n",
      "import matplotlib.pyplot as plt\n",
      "import matplotlib\n",
      "%matplotlib inline\n",
      "\n",
      "from utils import familiarity\n",
      "\n",
      "DATA_DIR = 'pilot_data'"
     ],
     "language": "python",
     "metadata": {},
     "outputs": [],
     "prompt_number": 1
    },
    {
     "cell_type": "code",
     "collapsed": false,
     "input": [
      "def _load_pilot_data_using_filename(filename):\n",
      "    with open(os.path.join(DATA_DIR, 'participants.txt')) as f:\n",
      "        participants = f.read().split()\n",
      "    mat = pd.read_csv(os.path.join(DATA_DIR, filename), names=participants)\n",
      "    mat.index = participants\n",
      "    return mat\n",
      "\n",
      "def load_pilot_familiarity():\n",
      "    return _load_pilot_data_using_filename('relationships.csv')\n",
      "\n",
      "def load_pilot_positioning_correlation(axis):\n",
      "    axis = axis.lower()\n",
      "    return _load_pilot_data_using_filename('{}_correlation.csv'.format(axis))"
     ],
     "language": "python",
     "metadata": {},
     "outputs": [],
     "prompt_number": 2
    },
    {
     "cell_type": "code",
     "collapsed": false,
     "input": [
      "p_fam = load_pilot_familiarity()\n",
      "y_correlation = load_pilot_positioning_correlation('y')\n",
      "\n",
      "# Normalize the y_correlation matrix\n",
      "min_, max_ = y_correlation.min().min(), y_correlation.max().max()\n",
      "y_correlation = (y_correlation - min_) / (max_ - min_)\n",
      "\n",
      "p_fam.caption, y_correlation.caption = 'Participants familiarity', 'Correlation across the Y axis'"
     ],
     "language": "python",
     "metadata": {},
     "outputs": [],
     "prompt_number": 3
    },
    {
     "cell_type": "code",
     "collapsed": false,
     "input": [
      "fig = plt.figure(figsize=(7, 4.5))\n",
      "\n",
      "fig.add_axes([0.1, 0.15, 0.35, 0.8])\n",
      "familiarity.show_map(p_fam)\n",
      "plt.xlabel(p_fam.caption)\n",
      "fig.add_axes([0.55, 0.15, 0.35, 0.8])\n",
      "familiarity.show_map(y_correlation)\n",
      "plt.xlabel(y_correlation.caption)\n",
      "\n",
      "# Colorbar\n",
      "cbar_ax = fig.add_axes([0.1, 0.1, 0.8, 0.05])\n",
      "cbar = matplotlib.colorbar.ColorbarBase(cbar_ax, ticks=[0, 1], cmap='hot', orientation='horizontal')\n",
      "_ = cbar_ax.set_xticklabels(['Low familiarity /\\npositioning correlation', 'High familiarity /\\npositioning correlation'])\n",
      "\n",
      "from utils import data as d_module\n",
      "d_module.save_to_graphics('pilot-familiarity_correlation_maps')"
     ],
     "language": "python",
     "metadata": {},
     "outputs": [
      {
       "metadata": {},
       "output_type": "display_data",
       "png": "[encoded data removed]",
       "text": [
        "<matplotlib.figure.Figure at 0x7f163d0e5cf8>"
       ]
      }
     ],
     "prompt_number": 4
    }
   ],
   "metadata": {}
  }
 ]
}