{
 "metadata": {
  "name": "",
  "signature": "sha256:2e89554cf54939b8ee8ccb1d888e0c662244b65e6c807a9e6cdbe146c4e2df06"
 },
 "nbformat": 3,
 "nbformat_minor": 0,
 "worksheets": [
  {
   "cells": [
    {
     "cell_type": "markdown",
     "metadata": {},
     "source": [
      "Analysis of pilot data. Mainly for cohesive graphic style\n",
      "========================================================="
     ]
    },
    {
     "cell_type": "markdown",
     "metadata": {},
     "source": [
      "## Familiarity maps and positioning correlation (across the y axis)"
     ]
    },
    {
     "cell_type": "code",
     "collapsed": false,
     "input": [
      "import os\n",
      "\n",
      "import pandas as pd\n",
      "import matplotlib.pyplot as plt\n",
      "import matplotlib\n",
      "%matplotlib inline\n",
      "\n",
      "from utils import familiarity\n",
      "\n",
      "DATA_DIR = 'pilot_data'"
     ],
     "language": "python",
     "metadata": {},
     "outputs": [],
     "prompt_number": 1
    },
    {
     "cell_type": "code",
     "collapsed": false,
     "input": [
      "def _load_pilot_data_using_filename(filename):\n",
      "    with open(os.path.join(DATA_DIR, 'participants.txt')) as f:\n",
      "        participants = f.read().split()\n",
      "    mat = pd.read_csv(os.path.join(DATA_DIR, filename), names=participants)\n",
      "    mat.index = participants\n",
      "    return mat\n",
      "\n",
      "def load_pilot_familiarity():\n",
      "    return _load_pilot_data_using_filename('relationships.csv')\n",
      "\n",
      "def load_pilot_positioning_correlation(axis):\n",
      "    axis = axis.lower()\n",
      "    return _load_pilot_data_using_filename('{}_correlation.csv'.format(axis))"
     ],
     "language": "python",
     "metadata": {},
     "outputs": [],
     "prompt_number": 2
    },
    {
     "cell_type": "code",
     "collapsed": false,
     "input": [
      "p_fam = load_pilot_familiarity()\n",
      "y_correlation = load_pilot_positioning_correlation('y')\n",
      "\n",
      "# Normalize the y_correlation matrix\n",
      "min_, max_ = y_correlation.min().min(), y_correlation.max().max()\n",
      "y_correlation = (y_correlation - min_) / (max_ - min_)\n",
      "\n",
      "p_fam.caption, y_correlation.caption = 'Participants familiarity', 'Correlation across the Y axis'"
     ],
     "language": "python",
     "metadata": {},
     "outputs": [],
     "prompt_number": 3
    },
    {
     "cell_type": "code",
     "collapsed": false,
     "input": [
      "fig = plt.figure(figsize=(8, 4))\n",
      "\n",
      "for i, mat in enumerate([p_fam, y_correlation], start=1):\n",
      "    plt.subplot(1, 2, i)\n",
      "    familiarity.show_map(mat)\n",
      "    plt.xlabel(mat.caption)\n",
      "\n",
      "# Colorbar\n",
      "cbar_ax = fig.add_axes([0.1, -0.02, 0.8, 0.05])\n",
      "cbar = matplotlib.colorbar.ColorbarBase(cbar_ax, ticks=[0, 1], cmap='hot', orientation='horizontal')\n",
      "_ = cbar_ax.set_xticklabels(['Low familiarity /\\npositioning correlation', 'High familiarity /\\npositioning correlation'])"
     ],
     "language": "python",
     "metadata": {},
     "outputs": [
      {
       "metadata": {},
       "output_type": "display_data",
       "png": "[encoded data removed]",
       "text": [
        "<matplotlib.figure.Figure at 0x7fa9d8103f60>"
       ]
      }
     ],
     "prompt_number": 13
    }
   ],
   "metadata": {}
  }
 ]
}